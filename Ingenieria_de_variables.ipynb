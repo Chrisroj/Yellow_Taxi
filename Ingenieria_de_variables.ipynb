{
 "cells": [
  {
   "cell_type": "markdown",
   "metadata": {},
   "source": [
    "# 2018 Yellow Taxi Trip Data"
   ]
  },
  {
   "cell_type": "code",
   "execution_count": 2,
   "metadata": {
    "ExecuteTime": {
     "end_time": "2021-01-13T04:55:45.216237Z",
     "start_time": "2021-01-13T04:55:39.848075Z"
    }
   },
   "outputs": [],
   "source": [
    "# %matplotlib\n",
    "import pandas as pd\n",
    "import numpy as np\n",
    "import random as rd\n",
    "import os\n",
    "import matplotlib.pyplot as plt\n",
    "import seaborn as sns"
   ]
  },
  {
   "cell_type": "markdown",
   "metadata": {},
   "source": [
    "### Ruta de datos"
   ]
  },
  {
   "cell_type": "code",
   "execution_count": 3,
   "metadata": {
    "ExecuteTime": {
     "end_time": "2021-01-13T04:55:45.219197Z",
     "start_time": "2021-01-13T04:55:45.217359Z"
    }
   },
   "outputs": [],
   "source": [
    "ruta = \"/home/christo/Downloads/Compressed\"\n",
    "archivo = \"2018_Yellow_Taxi_Trip_Data.csv\""
   ]
  },
  {
   "cell_type": "markdown",
   "metadata": {},
   "source": [
    "### Matriz predictiva"
   ]
  },
  {
   "cell_type": "markdown",
   "metadata": {},
   "source": [
    "En principio solo es necesario conocer la cantidad de viajes por hora durante el 2018, y construiremos la matriz predictiva a partir de esos datos.\n",
    "Creamos una función que nos de la hora en formato 24 horas, esto para que sea más rápido el código."
   ]
  },
  {
   "cell_type": "code",
   "execution_count": 3,
   "metadata": {
    "ExecuteTime": {
     "end_time": "2021-01-04T23:13:40.678015Z",
     "start_time": "2021-01-04T23:13:40.595815Z"
    }
   },
   "outputs": [],
   "source": [
    "def hora(hora, meridiano):\n",
    "    if meridiano == \"AM\":\n",
    "        return hora % 12\n",
    "    elif meridiano == \"PM\":\n",
    "        return 12 + (hora % 12)"
   ]
  },
  {
   "cell_type": "code",
   "execution_count": 4,
   "metadata": {
    "ExecuteTime": {
     "end_time": "2021-01-04T23:18:06.739810Z",
     "start_time": "2021-01-04T23:13:40.685432Z"
    }
   },
   "outputs": [
    {
     "name": "stdout",
     "output_type": "stream",
     "text": [
      "1\n",
      "2\n",
      "3\n",
      "4\n",
      "5\n",
      "6\n",
      "7\n",
      "8\n",
      "9\n",
      "10\n",
      "11\n",
      "12\n",
      "13\n",
      "14\n",
      "15\n",
      "16\n",
      "17\n",
      "18\n",
      "19\n",
      "20\n",
      "21\n",
      "22\n",
      "23\n",
      "24\n",
      "25\n",
      "26\n",
      "27\n",
      "28\n",
      "29\n",
      "30\n",
      "31\n",
      "32\n",
      "33\n",
      "34\n",
      "35\n",
      "36\n",
      "37\n",
      "38\n",
      "39\n",
      "40\n",
      "41\n",
      "42\n",
      "43\n",
      "44\n",
      "45\n",
      "46\n",
      "47\n",
      "48\n",
      "49\n",
      "50\n",
      "51\n",
      "52\n",
      "53\n",
      "54\n",
      "55\n",
      "56\n",
      "57\n",
      "58\n",
      "59\n",
      "60\n",
      "61\n",
      "62\n",
      "63\n",
      "64\n",
      "65\n",
      "66\n",
      "67\n",
      "68\n",
      "69\n",
      "70\n",
      "71\n",
      "72\n",
      "73\n",
      "74\n",
      "75\n",
      "76\n",
      "77\n",
      "78\n",
      "79\n",
      "80\n",
      "81\n",
      "82\n",
      "83\n",
      "84\n",
      "85\n",
      "86\n",
      "87\n",
      "88\n",
      "89\n",
      "90\n",
      "91\n",
      "92\n",
      "93\n",
      "94\n",
      "95\n",
      "96\n",
      "97\n",
      "98\n",
      "99\n",
      "100\n",
      "101\n",
      "102\n",
      "103\n",
      "104\n",
      "105\n",
      "106\n",
      "107\n",
      "108\n",
      "109\n",
      "110\n",
      "111\n",
      "112\n",
      "113\n",
      "114\n",
      "115\n",
      "116\n",
      "117\n",
      "118\n",
      "119\n",
      "120\n",
      "121\n",
      "122\n",
      "123\n",
      "124\n",
      "125\n",
      "126\n",
      "127\n",
      "128\n",
      "129\n",
      "130\n",
      "131\n",
      "132\n",
      "133\n",
      "134\n",
      "135\n",
      "136\n",
      "137\n",
      "138\n",
      "139\n",
      "140\n",
      "141\n",
      "142\n",
      "143\n",
      "144\n",
      "145\n",
      "146\n",
      "147\n",
      "148\n",
      "149\n",
      "150\n",
      "151\n",
      "152\n",
      "153\n",
      "154\n",
      "155\n",
      "156\n",
      "157\n",
      "158\n",
      "159\n",
      "160\n",
      "161\n",
      "162\n",
      "163\n",
      "164\n",
      "165\n",
      "166\n",
      "167\n",
      "168\n",
      "169\n",
      "170\n",
      "171\n",
      "172\n",
      "173\n",
      "174\n",
      "175\n",
      "176\n",
      "177\n",
      "178\n",
      "179\n",
      "180\n",
      "181\n",
      "182\n",
      "183\n",
      "184\n",
      "185\n",
      "186\n",
      "187\n",
      "188\n",
      "189\n",
      "190\n",
      "191\n",
      "192\n",
      "193\n",
      "194\n",
      "195\n",
      "196\n",
      "197\n",
      "198\n",
      "199\n",
      "200\n",
      "201\n",
      "202\n",
      "203\n",
      "204\n",
      "205\n",
      "206\n",
      "207\n",
      "208\n",
      "209\n",
      "210\n",
      "211\n",
      "212\n",
      "213\n",
      "214\n",
      "215\n",
      "216\n",
      "217\n",
      "218\n",
      "219\n",
      "220\n",
      "221\n",
      "222\n",
      "223\n",
      "224\n",
      "225\n"
     ]
    }
   ],
   "source": [
    "# Manipulación de datos por chunks\n",
    "chunk_list = []\n",
    "contador = 0\n",
    "for chunk in pd.read_csv(os.path.join(ruta,archivo), usecols = [\"tpep_pickup_datetime\"] ,chunksize = 500000, iterator = True):\n",
    "    tiempo = pd.DataFrame()\n",
    "    tiempo[\"fecha\"] = chunk[\"tpep_pickup_datetime\"].map(lambda x: x[:5]) # solo le falta el año\n",
    "    tiempo[\"hora\"] = chunk[\"tpep_pickup_datetime\"].map(lambda x: hora(int(x[11:13]), x[-2:]))\n",
    "    tiempo[\"viajes\"] = 1 # Creamos contador de filas(viajes)\n",
    "    tiempo = tiempo.groupby([\"fecha\", \"hora\"], as_index = False,sort = False).aggregate(\"count\")\n",
    "    contador += 1\n",
    "    print(contador)\n",
    "    chunk_list.append(tiempo)"
   ]
  },
  {
   "cell_type": "code",
   "execution_count": 21,
   "metadata": {
    "ExecuteTime": {
     "end_time": "2021-01-04T23:23:18.732524Z",
     "start_time": "2021-01-04T23:23:18.651081Z"
    }
   },
   "outputs": [],
   "source": [
    "prueba = pd.concat(chunk_list, axis = 0).groupby([\"fecha\", \"hora\"], as_index = False,sort = False).aggregate(\"sum\")"
   ]
  },
  {
   "cell_type": "code",
   "execution_count": 22,
   "metadata": {
    "ExecuteTime": {
     "end_time": "2021-01-04T23:23:20.852289Z",
     "start_time": "2021-01-04T23:23:20.839203Z"
    }
   },
   "outputs": [],
   "source": [
    "prueba.to_pickle(\"./prueba.pkl\")"
   ]
  },
  {
   "cell_type": "code",
   "execution_count": 23,
   "metadata": {
    "ExecuteTime": {
     "end_time": "2021-01-04T23:23:22.453838Z",
     "start_time": "2021-01-04T23:23:22.338924Z"
    }
   },
   "outputs": [],
   "source": [
    "?pd.to_pickle"
   ]
  },
  {
   "cell_type": "code",
   "execution_count": 4,
   "metadata": {
    "ExecuteTime": {
     "end_time": "2021-01-13T04:55:45.474909Z",
     "start_time": "2021-01-13T04:55:45.220814Z"
    }
   },
   "outputs": [],
   "source": [
    "prueba = pd.read_pickle(\"./prueba.pkl\")"
   ]
  },
  {
   "cell_type": "code",
   "execution_count": 5,
   "metadata": {
    "ExecuteTime": {
     "end_time": "2021-01-13T04:55:45.795470Z",
     "start_time": "2021-01-13T04:55:45.587596Z"
    }
   },
   "outputs": [],
   "source": [
    "prueba[\"fecha\"] = pd.to_datetime(prueba[\"fecha\"].map(lambda x: x +\"/2018\"), format = \"%m/%d/%Y\")"
   ]
  },
  {
   "cell_type": "code",
   "execution_count": 6,
   "metadata": {
    "ExecuteTime": {
     "end_time": "2021-01-13T04:55:46.291921Z",
     "start_time": "2021-01-13T04:55:46.263696Z"
    }
   },
   "outputs": [],
   "source": [
    "prueba = prueba.sort_values([\"fecha\", \"hora\"]).reset_index(drop = True)"
   ]
  },
  {
   "cell_type": "code",
   "execution_count": 7,
   "metadata": {
    "ExecuteTime": {
     "end_time": "2021-01-13T04:55:46.721781Z",
     "start_time": "2021-01-13T04:55:46.664556Z"
    }
   },
   "outputs": [
    {
     "data": {
      "text/html": [
       "<div>\n",
       "<style scoped>\n",
       "    .dataframe tbody tr th:only-of-type {\n",
       "        vertical-align: middle;\n",
       "    }\n",
       "\n",
       "    .dataframe tbody tr th {\n",
       "        vertical-align: top;\n",
       "    }\n",
       "\n",
       "    .dataframe thead th {\n",
       "        text-align: right;\n",
       "    }\n",
       "</style>\n",
       "<table border=\"1\" class=\"dataframe\">\n",
       "  <thead>\n",
       "    <tr style=\"text-align: right;\">\n",
       "      <th></th>\n",
       "      <th>fecha</th>\n",
       "      <th>hora</th>\n",
       "      <th>viajes</th>\n",
       "    </tr>\n",
       "  </thead>\n",
       "  <tbody>\n",
       "    <tr>\n",
       "      <th>0</th>\n",
       "      <td>2018-01-01</td>\n",
       "      <td>0</td>\n",
       "      <td>16783</td>\n",
       "    </tr>\n",
       "    <tr>\n",
       "      <th>1</th>\n",
       "      <td>2018-01-01</td>\n",
       "      <td>1</td>\n",
       "      <td>19061</td>\n",
       "    </tr>\n",
       "    <tr>\n",
       "      <th>2</th>\n",
       "      <td>2018-01-01</td>\n",
       "      <td>2</td>\n",
       "      <td>16601</td>\n",
       "    </tr>\n",
       "    <tr>\n",
       "      <th>3</th>\n",
       "      <td>2018-01-01</td>\n",
       "      <td>3</td>\n",
       "      <td>12631</td>\n",
       "    </tr>\n",
       "    <tr>\n",
       "      <th>4</th>\n",
       "      <td>2018-01-01</td>\n",
       "      <td>4</td>\n",
       "      <td>8740</td>\n",
       "    </tr>\n",
       "    <tr>\n",
       "      <th>...</th>\n",
       "      <td>...</td>\n",
       "      <td>...</td>\n",
       "      <td>...</td>\n",
       "    </tr>\n",
       "    <tr>\n",
       "      <th>8755</th>\n",
       "      <td>2018-12-31</td>\n",
       "      <td>19</td>\n",
       "      <td>14876</td>\n",
       "    </tr>\n",
       "    <tr>\n",
       "      <th>8756</th>\n",
       "      <td>2018-12-31</td>\n",
       "      <td>20</td>\n",
       "      <td>14435</td>\n",
       "    </tr>\n",
       "    <tr>\n",
       "      <th>8757</th>\n",
       "      <td>2018-12-31</td>\n",
       "      <td>21</td>\n",
       "      <td>14117</td>\n",
       "    </tr>\n",
       "    <tr>\n",
       "      <th>8758</th>\n",
       "      <td>2018-12-31</td>\n",
       "      <td>22</td>\n",
       "      <td>10741</td>\n",
       "    </tr>\n",
       "    <tr>\n",
       "      <th>8759</th>\n",
       "      <td>2018-12-31</td>\n",
       "      <td>23</td>\n",
       "      <td>8642</td>\n",
       "    </tr>\n",
       "  </tbody>\n",
       "</table>\n",
       "<p>8760 rows × 3 columns</p>\n",
       "</div>"
      ],
      "text/plain": [
       "          fecha  hora  viajes\n",
       "0    2018-01-01     0   16783\n",
       "1    2018-01-01     1   19061\n",
       "2    2018-01-01     2   16601\n",
       "3    2018-01-01     3   12631\n",
       "4    2018-01-01     4    8740\n",
       "...         ...   ...     ...\n",
       "8755 2018-12-31    19   14876\n",
       "8756 2018-12-31    20   14435\n",
       "8757 2018-12-31    21   14117\n",
       "8758 2018-12-31    22   10741\n",
       "8759 2018-12-31    23    8642\n",
       "\n",
       "[8760 rows x 3 columns]"
      ]
     },
     "execution_count": 7,
     "metadata": {},
     "output_type": "execute_result"
    }
   ],
   "source": [
    "prueba"
   ]
  },
  {
   "cell_type": "code",
   "execution_count": 8,
   "metadata": {
    "ExecuteTime": {
     "end_time": "2021-01-13T04:55:47.661943Z",
     "start_time": "2021-01-13T04:55:47.300417Z"
    }
   },
   "outputs": [
    {
     "data": {
      "text/html": [
       "<div>\n",
       "<style scoped>\n",
       "    .dataframe tbody tr th:only-of-type {\n",
       "        vertical-align: middle;\n",
       "    }\n",
       "\n",
       "    .dataframe tbody tr th {\n",
       "        vertical-align: top;\n",
       "    }\n",
       "\n",
       "    .dataframe thead th {\n",
       "        text-align: right;\n",
       "    }\n",
       "</style>\n",
       "<table border=\"1\" class=\"dataframe\">\n",
       "  <thead>\n",
       "    <tr style=\"text-align: right;\">\n",
       "      <th></th>\n",
       "      <th>Ant_24</th>\n",
       "      <th>Ant_23</th>\n",
       "      <th>Ant_22</th>\n",
       "      <th>Ant_21</th>\n",
       "      <th>Ant_20</th>\n",
       "      <th>Ant_19</th>\n",
       "      <th>Ant_18</th>\n",
       "      <th>Ant_17</th>\n",
       "      <th>Ant_16</th>\n",
       "      <th>Ant_15</th>\n",
       "      <th>...</th>\n",
       "      <th>Ant_9</th>\n",
       "      <th>Ant_8</th>\n",
       "      <th>Ant_7</th>\n",
       "      <th>Ant_6</th>\n",
       "      <th>Ant_5</th>\n",
       "      <th>Ant_4</th>\n",
       "      <th>Ant_3</th>\n",
       "      <th>Ant_2</th>\n",
       "      <th>Ant_1</th>\n",
       "      <th>Y</th>\n",
       "    </tr>\n",
       "  </thead>\n",
       "  <tbody>\n",
       "    <tr>\n",
       "      <th>0</th>\n",
       "      <td>16783</td>\n",
       "      <td>19061</td>\n",
       "      <td>16601</td>\n",
       "      <td>12631</td>\n",
       "      <td>8740</td>\n",
       "      <td>4229</td>\n",
       "      <td>3414</td>\n",
       "      <td>3433</td>\n",
       "      <td>3643</td>\n",
       "      <td>4940</td>\n",
       "      <td>...</td>\n",
       "      <td>13277</td>\n",
       "      <td>12552</td>\n",
       "      <td>12759</td>\n",
       "      <td>11821</td>\n",
       "      <td>10458</td>\n",
       "      <td>8357</td>\n",
       "      <td>8852</td>\n",
       "      <td>7906</td>\n",
       "      <td>5411</td>\n",
       "      <td>3584</td>\n",
       "    </tr>\n",
       "    <tr>\n",
       "      <th>1</th>\n",
       "      <td>19061</td>\n",
       "      <td>16601</td>\n",
       "      <td>12631</td>\n",
       "      <td>8740</td>\n",
       "      <td>4229</td>\n",
       "      <td>3414</td>\n",
       "      <td>3433</td>\n",
       "      <td>3643</td>\n",
       "      <td>4940</td>\n",
       "      <td>6974</td>\n",
       "      <td>...</td>\n",
       "      <td>12552</td>\n",
       "      <td>12759</td>\n",
       "      <td>11821</td>\n",
       "      <td>10458</td>\n",
       "      <td>8357</td>\n",
       "      <td>8852</td>\n",
       "      <td>7906</td>\n",
       "      <td>5411</td>\n",
       "      <td>3584</td>\n",
       "      <td>1724</td>\n",
       "    </tr>\n",
       "    <tr>\n",
       "      <th>2</th>\n",
       "      <td>16601</td>\n",
       "      <td>12631</td>\n",
       "      <td>8740</td>\n",
       "      <td>4229</td>\n",
       "      <td>3414</td>\n",
       "      <td>3433</td>\n",
       "      <td>3643</td>\n",
       "      <td>4940</td>\n",
       "      <td>6974</td>\n",
       "      <td>9984</td>\n",
       "      <td>...</td>\n",
       "      <td>12759</td>\n",
       "      <td>11821</td>\n",
       "      <td>10458</td>\n",
       "      <td>8357</td>\n",
       "      <td>8852</td>\n",
       "      <td>7906</td>\n",
       "      <td>5411</td>\n",
       "      <td>3584</td>\n",
       "      <td>1724</td>\n",
       "      <td>1205</td>\n",
       "    </tr>\n",
       "    <tr>\n",
       "      <th>3</th>\n",
       "      <td>12631</td>\n",
       "      <td>8740</td>\n",
       "      <td>4229</td>\n",
       "      <td>3414</td>\n",
       "      <td>3433</td>\n",
       "      <td>3643</td>\n",
       "      <td>4940</td>\n",
       "      <td>6974</td>\n",
       "      <td>9984</td>\n",
       "      <td>11627</td>\n",
       "      <td>...</td>\n",
       "      <td>11821</td>\n",
       "      <td>10458</td>\n",
       "      <td>8357</td>\n",
       "      <td>8852</td>\n",
       "      <td>7906</td>\n",
       "      <td>5411</td>\n",
       "      <td>3584</td>\n",
       "      <td>1724</td>\n",
       "      <td>1205</td>\n",
       "      <td>918</td>\n",
       "    </tr>\n",
       "    <tr>\n",
       "      <th>4</th>\n",
       "      <td>8740</td>\n",
       "      <td>4229</td>\n",
       "      <td>3414</td>\n",
       "      <td>3433</td>\n",
       "      <td>3643</td>\n",
       "      <td>4940</td>\n",
       "      <td>6974</td>\n",
       "      <td>9984</td>\n",
       "      <td>11627</td>\n",
       "      <td>11897</td>\n",
       "      <td>...</td>\n",
       "      <td>10458</td>\n",
       "      <td>8357</td>\n",
       "      <td>8852</td>\n",
       "      <td>7906</td>\n",
       "      <td>5411</td>\n",
       "      <td>3584</td>\n",
       "      <td>1724</td>\n",
       "      <td>1205</td>\n",
       "      <td>918</td>\n",
       "      <td>1214</td>\n",
       "    </tr>\n",
       "  </tbody>\n",
       "</table>\n",
       "<p>5 rows × 25 columns</p>\n",
       "</div>"
      ],
      "text/plain": [
       "   Ant_24  Ant_23  Ant_22  Ant_21  Ant_20  Ant_19  Ant_18  Ant_17  Ant_16  \\\n",
       "0   16783   19061   16601   12631    8740    4229    3414    3433    3643   \n",
       "1   19061   16601   12631    8740    4229    3414    3433    3643    4940   \n",
       "2   16601   12631    8740    4229    3414    3433    3643    4940    6974   \n",
       "3   12631    8740    4229    3414    3433    3643    4940    6974    9984   \n",
       "4    8740    4229    3414    3433    3643    4940    6974    9984   11627   \n",
       "\n",
       "   Ant_15  ...  Ant_9  Ant_8  Ant_7  Ant_6  Ant_5  Ant_4  Ant_3  Ant_2  Ant_1  \\\n",
       "0    4940  ...  13277  12552  12759  11821  10458   8357   8852   7906   5411   \n",
       "1    6974  ...  12552  12759  11821  10458   8357   8852   7906   5411   3584   \n",
       "2    9984  ...  12759  11821  10458   8357   8852   7906   5411   3584   1724   \n",
       "3   11627  ...  11821  10458   8357   8852   7906   5411   3584   1724   1205   \n",
       "4   11897  ...  10458   8357   8852   7906   5411   3584   1724   1205    918   \n",
       "\n",
       "      Y  \n",
       "0  3584  \n",
       "1  1724  \n",
       "2  1205  \n",
       "3   918  \n",
       "4  1214  \n",
       "\n",
       "[5 rows x 25 columns]"
      ]
     },
     "execution_count": 8,
     "metadata": {},
     "output_type": "execute_result"
    }
   ],
   "source": [
    "# Matriz predictiva usando los viajes de horas anteriores\n",
    "\n",
    "n = 24 # NÚMERO DE HORAS ANTERIORES\n",
    "matriz_pred = pd.DataFrame([list(prueba[\"viajes\"][(0 + i):(n + 1 + i)])  for i in range(len(prueba) - n)])\n",
    "\n",
    "# Renombrando columnas\n",
    "new_columns = [\"Ant_\" + str(n-int(v)) for v in matriz_pred.columns[0:-1]] + [\"Y\"]\n",
    "matriz_pred.columns = new_columns\n",
    "\n",
    "# Matriz X,y\n",
    "X = matriz_pred.iloc[:,0:-1].copy()\n",
    "y = matriz_pred.iloc[:,-1].copy()\n",
    "\n",
    "matriz_pred.head()"
   ]
  },
  {
   "cell_type": "markdown",
   "metadata": {},
   "source": [
    "### Modelos"
   ]
  },
  {
   "cell_type": "markdown",
   "metadata": {},
   "source": [
    "#### Árbol de Regresión"
   ]
  },
  {
   "cell_type": "markdown",
   "metadata": {},
   "source": [
    "Un árbol de regresión consiste en hacer preguntas de tipo ¿$x_k \\leq c$? para cada una de las covariables, de esta forma el espacio de las covariables es divido en hiper-rectángulos y todas las observaciones que queden dentro de un hiper-rectángulo tendrán el mismo valor estimado $\\hat{y}$.\n",
    "\n",
    "En la siguiente figura se ilustra el árbol en el lado izquierdo y la partición del espacio en el lado derecho. La partición del espacio se hace de manera repetitiva para encontrar las variables y los valores de corte $c$ de tal manera que se minimice la función de costos $\\sum_{i = 1}^n (y_i - \\hat{y_i})^2$ (Puede ser una métrica distinta a $L_2$). \n",
    "\n",
    "<img src=\"arbol_regre.png\">\n",
    "\n",
    "Los pasos para realizar la partición del espacio son:\n",
    "\n",
    "* Dado un conjunto de covariables (características), encontrar la covariable que permita predecir mejor la variable respuesta.\n",
    "* Encontrar el punto de corte  $c$ sobre esa covariable que permita predecir mejor la variable respuesta.\n",
    "* Repetir los pasos anteriores hasta que se alcance el criterio de parada.\n",
    "\n",
    "https://fhernanb.github.io/libro_mod_pred/arb-de-regre.html#ref-Breiman1984"
   ]
  },
  {
   "cell_type": "code",
   "execution_count": 66,
   "metadata": {
    "ExecuteTime": {
     "end_time": "2021-01-06T21:43:01.317138Z",
     "start_time": "2021-01-06T21:43:01.299062Z"
    }
   },
   "outputs": [
    {
     "name": "stdout",
     "output_type": "stream",
     "text": [
      "(6114, 25) (2621, 25) (6114,) (2621,)\n"
     ]
    }
   ],
   "source": [
    "from sklearn.tree import DecisionTreeRegressor\n",
    "from sklearn.model_selection import GridSearchCV\n",
    "from sklearn.model_selection import train_test_split\n",
    "from sklearn.metrics import mean_squared_error, mean_absolute_error, SCORERS, r2_score\n",
    "\n",
    "# Setting parameters\n",
    "hyper_param = dict(criterion = [\"mse\", \"friedman_mse\", \"mae\", \"poisson\"], # Puede agregarse friedman_mse, son metricas.\n",
    "                    splitter = [\"best\", \"random\"],\n",
    "                    max_depth = range(2,20),\n",
    "                    min_samples_leaf = [50,100,150]) # Si de las carac. mira a todos o toma una aleatorio\n",
    "\n",
    "# Splitting data\n",
    "Xt, Xv, yt, yv = train_test_split(X,y,train_size = 0.7)\n",
    "\n",
    "# Shape\n",
    "print(Xt.shape, Xv.shape, yt.shape, yv.shape)\n",
    "\n",
    "# Creating model\n",
    "modelo = DecisionTreeRegressor()\n",
    "\n",
    "# Creating grid\n",
    "# https://scikit-learn.org/stable/modules/cross_validation.html#cross-validation\n",
    "grid = GridSearchCV(estimator = modelo,  #Modelo sujeto de la hiperparametrización\n",
    "                    param_grid = hyper_param, #Espacio paramétrico\n",
    "                    cv = 5, #Número de dobleces (Folds)\n",
    "                    n_jobs = -1, #Procesadores a usar (-1 == todos)\n",
    "                    scoring = 'neg_mean_absolute_error', #Métrica para seleccionar el mejor modelo\n",
    "                    verbose = True) #Nos informa del estado del entrenamiento"
   ]
  },
  {
   "cell_type": "code",
   "execution_count": 67,
   "metadata": {
    "ExecuteTime": {
     "end_time": "2021-01-06T21:47:46.643819Z",
     "start_time": "2021-01-06T21:43:02.962414Z"
    }
   },
   "outputs": [
    {
     "name": "stdout",
     "output_type": "stream",
     "text": [
      "Fitting 5 folds for each of 432 candidates, totalling 2160 fits\n"
     ]
    },
    {
     "name": "stderr",
     "output_type": "stream",
     "text": [
      "[Parallel(n_jobs=-1)]: Using backend LokyBackend with 8 concurrent workers.\n",
      "[Parallel(n_jobs=-1)]: Done  34 tasks      | elapsed:    2.9s\n",
      "[Parallel(n_jobs=-1)]: Done 536 tasks      | elapsed:    8.1s\n",
      "[Parallel(n_jobs=-1)]: Done 1266 tasks      | elapsed:  1.6min\n",
      "[Parallel(n_jobs=-1)]: Done 1616 tasks      | elapsed:  4.6min\n",
      "[Parallel(n_jobs=-1)]: Done 2160 out of 2160 | elapsed:  4.6min finished\n"
     ]
    },
    {
     "data": {
      "text/plain": [
       "GridSearchCV(cv=5, estimator=DecisionTreeRegressor(), n_jobs=-1,\n",
       "             param_grid={'criterion': ['mse', 'friedman_mse', 'mae', 'poisson'],\n",
       "                         'max_depth': range(2, 20),\n",
       "                         'min_samples_leaf': [50, 100, 150],\n",
       "                         'splitter': ['best', 'random']},\n",
       "             scoring='neg_mean_absolute_error', verbose=True)"
      ]
     },
     "execution_count": 67,
     "metadata": {},
     "output_type": "execute_result"
    }
   ],
   "source": [
    "grid.fit(Xt,yt)"
   ]
  },
  {
   "cell_type": "code",
   "execution_count": 84,
   "metadata": {
    "ExecuteTime": {
     "end_time": "2021-01-06T22:49:17.034608Z",
     "start_time": "2021-01-06T22:49:17.026057Z"
    },
    "scrolled": true
   },
   "outputs": [
    {
     "name": "stdout",
     "output_type": "stream",
     "text": [
      "Mejores parametros:  {'learning_rate': 'constant', 'hidden_layer_sizes': (25, 36, 27), 'alpha': 0.4677000000000114, 'activation': 'relu'}\n",
      "Mejor std:  15.32078342506608\n",
      "Mejor score:  647.4804541760373\n"
     ]
    }
   ],
   "source": [
    "print(\"Mejores parametros: \", grid.best_params_)\n",
    "print(\"Mejor std: \", pd.DataFrame(grid.cv_results_).sort_values(\"rank_test_score\")[\"std_test_score\"][0])\n",
    "print(\"Mejor score: \", np.abs(grid.best_score_))"
   ]
  },
  {
   "cell_type": "code",
   "execution_count": 69,
   "metadata": {
    "ExecuteTime": {
     "end_time": "2021-01-06T21:49:12.682850Z",
     "start_time": "2021-01-06T21:49:04.808397Z"
    }
   },
   "outputs": [],
   "source": [
    "modelo = grid.best_estimator_ # Elegimos el mejor modelo\n",
    "modelo.fit(Xt,yt) # Entrenamos el modelo\n",
    "yt_predict = np.round(modelo.predict(Xt)) # Nos interesan enteros por eso redondeamos \n",
    "yv_predict = np.round(modelo.predict(Xv)) "
   ]
  },
  {
   "cell_type": "code",
   "execution_count": 70,
   "metadata": {
    "ExecuteTime": {
     "end_time": "2021-01-06T21:49:14.349719Z",
     "start_time": "2021-01-06T21:49:14.336792Z"
    }
   },
   "outputs": [
    {
     "name": "stdout",
     "output_type": "stream",
     "text": [
      "MAE para entrenamiento:  884.9587831207066\n",
      "MAE para validación:  943.7283479587943\n"
     ]
    }
   ],
   "source": [
    "print(\"MAE para entrenamiento: \", mean_absolute_error(y_true = yt, y_pred = yt_predict))\n",
    "print(\"MAE para validación: \", mean_absolute_error(y_true = yv, y_pred = yv_predict))"
   ]
  },
  {
   "cell_type": "code",
   "execution_count": 71,
   "metadata": {
    "ExecuteTime": {
     "end_time": "2021-01-06T21:49:17.760999Z",
     "start_time": "2021-01-06T21:49:17.745734Z"
    }
   },
   "outputs": [
    {
     "name": "stdout",
     "output_type": "stream",
     "text": [
      "MSE para entrenamiento:  2647119.110238796\n",
      "MSE para validación:  2510179.0385349104\n"
     ]
    }
   ],
   "source": [
    "print(\"MSE para entrenamiento: \", mean_squared_error(y_true = yt, y_pred = yt_predict))\n",
    "print(\"MSE para validación: \", mean_squared_error(y_true = yv, y_pred = yv_predict))"
   ]
  },
  {
   "cell_type": "code",
   "execution_count": 130,
   "metadata": {
    "ExecuteTime": {
     "end_time": "2021-01-07T00:43:18.173419Z",
     "start_time": "2021-01-07T00:43:17.868096Z"
    }
   },
   "outputs": [
    {
     "data": {
      "image/png": "[encoded data removed]",
      "text/plain": [
       "<Figure size 1080x504 with 2 Axes>"
      ]
     },
     "metadata": {},
     "output_type": "display_data"
    }
   ],
   "source": [
    "mae = [mean_absolute_error(y_true = yt, y_pred = yt_predict),\n",
    "       mean_absolute_error(y_true = yv, y_pred = yv_predict)]\n",
    "\n",
    "mse = [mean_squared_error(y_true = yt, y_pred = yt_predict),\n",
    "       mean_squared_error(y_true = yv, y_pred = yv_predict)]\n",
    "\n",
    "nombres = [\"entrenamiento\", \"validación\"]\n",
    "\n",
    "# Gráficas MAE y MSE\n",
    "plt.get_cmap(\"cool\")\n",
    "plt.figure(figsize=(15,7))\n",
    "\n",
    "plt.subplot(1, 2, 1)\n",
    "plt.bar(nombres, mae, color = (0.2, 0.4, 0.6, 0.6))\n",
    "for i in range(len(mae)):\n",
    "    plt.annotate(str(round(mae[i])), xy = (nombres[i], mae[i]), ha='center', va='bottom')\n",
    "plt.ylabel(\"Error\")\n",
    "plt.title(\"MAE\")\n",
    "\n",
    "plt.subplot(1, 2, 2)\n",
    "plt.bar(nombres, mse, color = (0.2, 0.4, 0.6, 0.6))\n",
    "for i in range(len(mse)):\n",
    "    plt.annotate(str(round(mse[i])), xy = (nombres[i], mse[i]), ha='center', va='bottom')\n",
    "plt.ylabel(\"Error\")\n",
    "plt.title(\"MSE\")\n",
    "\n",
    "plt.show()\n"
   ]
  },
  {
   "cell_type": "code",
   "execution_count": 72,
   "metadata": {
    "ExecuteTime": {
     "end_time": "2021-01-06T21:49:18.992625Z",
     "start_time": "2021-01-06T21:49:18.777249Z"
    }
   },
   "outputs": [
    {
     "data": {
      "text/plain": [
       "Text(0.5, 1.0, 'Volumen real vs predicción(Entrenamiento)')"
      ]
     },
     "execution_count": 72,
     "metadata": {},
     "output_type": "execute_result"
    },
    {
     "data": {
      "image/png": "[encoded data removed]",
      "text/plain": [
       "<Figure size 432x288 with 1 Axes>"
      ]
     },
     "metadata": {
      "needs_background": "light"
     },
     "output_type": "display_data"
    }
   ],
   "source": [
    "tabla_vs = pd.concat([Xt.reset_index(drop=1), yt.reset_index(drop=1), pd.Series(yt_predict, name = \"Y_predict\")], axis = 1)[[\"X_0\",\"Y\",\"Y_predict\"]]\n",
    "tabla_vs.groupby(\"X_0\").agg(\"mean\").plot()\n",
    "plt.xlabel(\"Horas\")\n",
    "plt.ylabel(\"Promedio de viajes\")\n",
    "plt.title(\"Volumen real vs predicción(Entrenamiento)\")"
   ]
  },
  {
   "cell_type": "code",
   "execution_count": 73,
   "metadata": {
    "ExecuteTime": {
     "end_time": "2021-01-06T21:49:22.234465Z",
     "start_time": "2021-01-06T21:49:22.025058Z"
    }
   },
   "outputs": [
    {
     "data": {
      "text/plain": [
       "Text(0.5, 1.0, 'Volumen real vs predicción(Validación)')"
      ]
     },
     "execution_count": 73,
     "metadata": {},
     "output_type": "execute_result"
    },
    {
     "data": {
      "image/png": "[encoded data removed]",
      "text/plain": [
       "<Figure size 432x288 with 1 Axes>"
      ]
     },
     "metadata": {
      "needs_background": "light"
     },
     "output_type": "display_data"
    }
   ],
   "source": [
    "tabla_vs = pd.concat([Xv.reset_index(drop=1), yv.reset_index(drop=1), pd.Series(yv_predict, name = \"Y_predict\")], axis = 1)[[\"X_0\",\"Y\",\"Y_predict\"]]\n",
    "tabla_vs.groupby(\"X_0\").agg(\"mean\").plot()\n",
    "plt.xlabel(\"Horas\")\n",
    "plt.ylabel(\"Promedio de viajes\")\n",
    "plt.title(\"Volumen real vs predicción(Validación)\")"
   ]
  },
  {
   "cell_type": "markdown",
   "metadata": {},
   "source": [
    "#### Red Neuronal"
   ]
  },
  {
   "cell_type": "code",
   "execution_count": 16,
   "metadata": {
    "ExecuteTime": {
     "end_time": "2021-01-12T00:37:23.629312Z",
     "start_time": "2021-01-12T00:37:22.267341Z"
    },
    "scrolled": true
   },
   "outputs": [
    {
     "name": "stdout",
     "output_type": "stream",
     "text": [
      "(6098, 48) (2614, 48) (6098,) (2614,)\n"
     ]
    }
   ],
   "source": [
    "from sklearn.neural_network import MLPRegressor\n",
    "from sklearn.model_selection import train_test_split,GridSearchCV,RandomizedSearchCV\n",
    "from sklearn.metrics import  mean_squared_error, mean_absolute_error, SCORERS, r2_score\n",
    "\n",
    "\n",
    "# Setting parameters\n",
    "hyper_param = dict(hidden_layer_sizes=[(a,b,c,) for a in range(20,30,1) for b in range(30,40,1) for c in range(20,30,1)],\n",
    "                   activation = ['identity', 'logistic', 'tanh', 'relu'],\n",
    "                   alpha = np.arange(0.01,0.9,0.0001),\n",
    "                   learning_rate = ['constant', 'invscaling', 'adaptive'],\n",
    "                  )\n",
    "# Splitting data\n",
    "Xt, Xv, yt, yv = train_test_split(X,y,train_size = 0.7)\n",
    "\n",
    "# Shape\n",
    "print(Xt.shape, Xv.shape, yt.shape, yv.shape)\n",
    "\n",
    "# Creating model\n",
    "modelo = MLPRegressor()\n",
    "\n",
    "# Creating grid\n",
    "# https://scikit-learn.org/stable/modules/cross_validation.html#cross-validation\n",
    "grid = RandomizedSearchCV(estimator = modelo,#Modelo sujeto de la hiperparametrización\n",
    "                    n_iter = 500,\n",
    "                    param_distributions = hyper_param, #Espacio paramétrico\n",
    "                    cv = 3, #Número de dobleces (Folds)\n",
    "                    n_jobs = 4, #Procesadores a usar (-1 == todos)\n",
    "                    scoring = 'neg_mean_absolute_error', #Métrica para seleccionar el mejor modelo\n",
    "                    verbose = True) #Nos informa del estado del entrenamiento"
   ]
  },
  {
   "cell_type": "code",
   "execution_count": 17,
   "metadata": {
    "ExecuteTime": {
     "end_time": "2021-01-12T01:18:35.404375Z",
     "start_time": "2021-01-12T00:37:23.632029Z"
    },
    "scrolled": false
   },
   "outputs": [
    {
     "name": "stdout",
     "output_type": "stream",
     "text": [
      "Fitting 3 folds for each of 500 candidates, totalling 1500 fits\n"
     ]
    },
    {
     "name": "stderr",
     "output_type": "stream",
     "text": [
      "[Parallel(n_jobs=4)]: Using backend LokyBackend with 4 concurrent workers.\n",
      "[Parallel(n_jobs=4)]: Done  42 tasks      | elapsed:   48.8s\n",
      "[Parallel(n_jobs=4)]: Done 192 tasks      | elapsed:  4.3min\n",
      "[Parallel(n_jobs=4)]: Done 442 tasks      | elapsed: 10.7min\n",
      "[Parallel(n_jobs=4)]: Done 792 tasks      | elapsed: 20.9min\n",
      "[Parallel(n_jobs=4)]: Done 1242 tasks      | elapsed: 33.1min\n",
      "[Parallel(n_jobs=4)]: Done 1500 out of 1500 | elapsed: 40.8min finished\n",
      "/home/christo/entornos/tsc/lib/python3.8/site-packages/sklearn/neural_network/_multilayer_perceptron.py:582: ConvergenceWarning: Stochastic Optimizer: Maximum iterations (200) reached and the optimization hasn't converged yet.\n",
      "  warnings.warn(\n"
     ]
    },
    {
     "data": {
      "text/plain": [
       "RandomizedSearchCV(cv=3, estimator=MLPRegressor(), n_iter=500, n_jobs=4,\n",
       "                   param_distributions={'activation': ['identity', 'logistic',\n",
       "                                                       'tanh', 'relu'],\n",
       "                                        'alpha': array([0.01  , 0.0101, 0.0102, ..., 0.8997, 0.8998, 0.8999]),\n",
       "                                        'hidden_layer_sizes': [(20, 30, 20),\n",
       "                                                               (20, 30, 21),\n",
       "                                                               (20, 30, 22),\n",
       "                                                               (20, 30, 23),\n",
       "                                                               (20, 30, 24),\n",
       "                                                               (20, 30, 25),\n",
       "                                                               (20, 30, 26),\n",
       "                                                               (20, 30, 27),\n",
       "                                                               (20, 30, 28),\n",
       "                                                               (20, 30, 29),\n",
       "                                                               (20, 31, 20),\n",
       "                                                               (20, 31, 21),\n",
       "                                                               (20, 31, 22),\n",
       "                                                               (20, 31, 23),\n",
       "                                                               (20, 31, 24),\n",
       "                                                               (20, 31, 25),\n",
       "                                                               (20, 31, 26),\n",
       "                                                               (20, 31, 27),\n",
       "                                                               (20, 31, 28),\n",
       "                                                               (20, 31, 29),\n",
       "                                                               (20, 32, 20),\n",
       "                                                               (20, 32, 21),\n",
       "                                                               (20, 32, 22),\n",
       "                                                               (20, 32, 23),\n",
       "                                                               (20, 32, 24),\n",
       "                                                               (20, 32, 25),\n",
       "                                                               (20, 32, 26),\n",
       "                                                               (20, 32, 27),\n",
       "                                                               (20, 32, 28),\n",
       "                                                               (20, 32, 29), ...],\n",
       "                                        'learning_rate': ['constant',\n",
       "                                                          'invscaling',\n",
       "                                                          'adaptive']},\n",
       "                   scoring='neg_mean_absolute_error', verbose=True)"
      ]
     },
     "execution_count": 17,
     "metadata": {},
     "output_type": "execute_result"
    }
   ],
   "source": [
    "grid.fit(Xt,yt)"
   ]
  },
  {
   "cell_type": "code",
   "execution_count": 18,
   "metadata": {
    "ExecuteTime": {
     "end_time": "2021-01-12T01:19:53.091647Z",
     "start_time": "2021-01-12T01:19:53.003003Z"
    }
   },
   "outputs": [
    {
     "name": "stdout",
     "output_type": "stream",
     "text": [
      "Mejores parametros:  {'learning_rate': 'invscaling', 'hidden_layer_sizes': (29, 35, 27), 'alpha': 0.7092999999999958, 'activation': 'relu'}\n",
      "Desviación estándar:  9.807114476105914\n",
      "Mejor score:  633.0252488699439\n"
     ]
    }
   ],
   "source": [
    "print(\"Mejores parametros: \", grid.best_params_)\n",
    "print(\"Desviación estándar: \", pd.DataFrame(grid.cv_results_).sort_values(by = \"rank_test_score\").reset_index()[\"std_test_score\"][0])\n",
    "print(\"Mejor score: \", np.abs(grid.best_score_))"
   ]
  },
  {
   "cell_type": "code",
   "execution_count": null,
   "metadata": {
    "ExecuteTime": {
     "start_time": "2021-01-12T01:19:55.162Z"
    },
    "scrolled": false
   },
   "outputs": [],
   "source": [
    "modelo = grid.best_estimator_ # Elegi  mos el mejor modelo\n",
    "modelo.max_iter = len(matriz_pred)*2 # Max iteraciones\n",
    "modelo.fit(Xt,yt) # Entrenamos el modelo\n",
    "yt_predict = np.round(modelo.predict(Xt)) # Nos interesan enteros por eso redondeamos \n",
    "yv_predict = np.round(modelo.predict(Xv)) "
   ]
  },
  {
   "cell_type": "code",
   "execution_count": 79,
   "metadata": {
    "ExecuteTime": {
     "end_time": "2021-01-06T22:37:29.947865Z",
     "start_time": "2021-01-06T22:37:29.937001Z"
    }
   },
   "outputs": [
    {
     "name": "stdout",
     "output_type": "stream",
     "text": [
      "MAE para entrenamiento:  634.7054301602878\n",
      "MAE para validación:  673.1816100724914\n"
     ]
    }
   ],
   "source": [
    "print(\"MAE para entrenamiento: \", mean_absolute_error(y_true = yt, y_pred = yt_predict))\n",
    "print(\"MAE para validación: \", mean_absolute_error(y_true = yv, y_pred = yv_predict))"
   ]
  },
  {
   "cell_type": "code",
   "execution_count": 80,
   "metadata": {
    "ExecuteTime": {
     "end_time": "2021-01-06T22:37:31.417137Z",
     "start_time": "2021-01-06T22:37:31.399347Z"
    }
   },
   "outputs": [
    {
     "name": "stdout",
     "output_type": "stream",
     "text": [
      "MSE para entrenamiento:  927067.1437684004\n",
      "MSE para validación:  1293558.3864937047\n"
     ]
    }
   ],
   "source": [
    "print(\"MSE para entrenamiento: \", mean_squared_error(y_true = yt, y_pred = yt_predict))\n",
    "print(\"MSE para validación: \", mean_squared_error(y_true = yv, y_pred = yv_predict))"
   ]
  },
  {
   "cell_type": "code",
   "execution_count": 131,
   "metadata": {
    "ExecuteTime": {
     "end_time": "2021-01-07T01:03:52.425093Z",
     "start_time": "2021-01-07T01:03:52.089846Z"
    }
   },
   "outputs": [
    {
     "data": {
      "image/png": "[encoded data removed]",
      "text/plain": [
       "<Figure size 1080x504 with 2 Axes>"
      ]
     },
     "metadata": {},
     "output_type": "display_data"
    }
   ],
   "source": [
    "mae = [mean_absolute_error(y_true = yt, y_pred = yt_predict),\n",
    "       mean_absolute_error(y_true = yv, y_pred = yv_predict)]\n",
    "\n",
    "mse = [mean_squared_error(y_true = yt, y_pred = yt_predict),\n",
    "       mean_squared_error(y_true = yv, y_pred = yv_predict)]\n",
    "\n",
    "nombres = [\"entrenamiento\", \"validación\"]\n",
    "\n",
    "# Gráficas MAE y MSE\n",
    "plt.get_cmap(\"cool\")\n",
    "plt.figure(figsize=(15,7))\n",
    "\n",
    "plt.subplot(1, 2, 1)\n",
    "plt.bar(nombres, mae, color = (0.2, 0.4, 0.6, 0.6))\n",
    "for i in range(len(mae)):\n",
    "    plt.annotate(str(round(mae[i])), xy = (nombres[i], mae[i]), ha='center', va='bottom')\n",
    "plt.ylabel(\"Error\")\n",
    "plt.title(\"MAE\")\n",
    "\n",
    "plt.subplot(1, 2, 2)\n",
    "plt.bar(nombres, mse, color = (0.2, 0.4, 0.6, 0.6))\n",
    "for i in range(len(mse)):\n",
    "    plt.annotate(str(round(mse[i])), xy = (nombres[i], mse[i]), ha='center', va='bottom')\n",
    "plt.ylabel(\"Error\")\n",
    "plt.title(\"MSE\")\n",
    "\n",
    "plt.show()"
   ]
  },
  {
   "cell_type": "code",
   "execution_count": 81,
   "metadata": {
    "ExecuteTime": {
     "end_time": "2021-01-06T22:37:32.722356Z",
     "start_time": "2021-01-06T22:37:32.433062Z"
    }
   },
   "outputs": [
    {
     "data": {
      "text/plain": [
       "Text(0.5, 1.0, 'Volumen real vs predicción(Entrenamiento)')"
      ]
     },
     "execution_count": 81,
     "metadata": {},
     "output_type": "execute_result"
    },
    {
     "data": {
      "image/png": "[encoded data removed]",
      "text/plain": [
       "<Figure size 432x288 with 1 Axes>"
      ]
     },
     "metadata": {
      "needs_background": "light"
     },
     "output_type": "display_data"
    }
   ],
   "source": [
    "tabla_vs = pd.concat([Xt.reset_index(drop=1), yt.reset_index(drop=1), pd.Series(yt_predict, name = \"Y_predict\")], axis = 1)[[\"X_0\",\"Y\",\"Y_predict\"]]\n",
    "tabla_vs.groupby(\"X_0\").agg(\"mean\").plot()\n",
    "plt.xlabel(\"Horas\")\n",
    "plt.ylabel(\"Promedio de viajes\")\n",
    "plt.title(\"Volumen real vs predicción(Entrenamiento)\")"
   ]
  },
  {
   "cell_type": "code",
   "execution_count": 82,
   "metadata": {
    "ExecuteTime": {
     "end_time": "2021-01-06T22:37:34.546808Z",
     "start_time": "2021-01-06T22:37:34.267423Z"
    }
   },
   "outputs": [
    {
     "data": {
      "text/plain": [
       "Text(0.5, 1.0, 'Volumen real vs predicción(Validación)')"
      ]
     },
     "execution_count": 82,
     "metadata": {},
     "output_type": "execute_result"
    },
    {
     "data": {
      "image/png": "[encoded data removed]",
      "text/plain": [
       "<Figure size 432x288 with 1 Axes>"
      ]
     },
     "metadata": {
      "needs_background": "light"
     },
     "output_type": "display_data"
    }
   ],
   "source": [
    "tabla_vs = pd.concat([Xv.reset_index(drop=1), yv.reset_index(drop=1), pd.Series(yv_predict, name = \"Y_predict\")], axis = 1)[[\"X_0\",\"Y\",\"Y_predict\"]]\n",
    "tabla_vs.groupby(\"X_0\").agg(\"mean\").plot()\n",
    "plt.xlabel(\"Horas\")\n",
    "plt.ylabel(\"Promedio de viajes\")\n",
    "plt.title(\"Volumen real vs predicción(Validación)\")"
   ]
  },
  {
   "cell_type": "code",
   "execution_count": null,
   "metadata": {},
   "outputs": [],
   "source": []
  },
  {
   "cell_type": "code",
   "execution_count": null,
   "metadata": {},
   "outputs": [],
   "source": []
  },
  {
   "cell_type": "code",
   "execution_count": null,
   "metadata": {},
   "outputs": [],
   "source": []
  },
  {
   "cell_type": "code",
   "execution_count": null,
   "metadata": {},
   "outputs": [],
   "source": []
  },
  {
   "cell_type": "code",
   "execution_count": null,
   "metadata": {},
   "outputs": [],
   "source": []
  }
 ],
 "metadata": {
  "kernelspec": {
   "display_name": "tsc",
   "language": "python",
   "name": "tsc"
  },
  "language_info": {
   "codemirror_mode": {
    "name": "ipython",
    "version": 3
   },
   "file_extension": ".py",
   "mimetype": "text/x-python",
   "name": "python",
   "nbconvert_exporter": "python",
   "pygments_lexer": "ipython3",
   "version": "3.8.5"
  }
 },
 "nbformat": 4,
 "nbformat_minor": 4
}
